{
 "cells": [
  {
   "cell_type": "code",
   "execution_count": 1,
   "id": "d6eeedbb",
   "metadata": {},
   "outputs": [],
   "source": [
    "import numpy as np\n",
    "import pandas as pd\n",
    "import matplotlib.pyplot as plt\n",
    "\n",
    "import statsmodels.api as sm\n",
    "import statsmodels.formula.api as smf\n",
    "\n",
    "import seaborn as sns\n",
    "sns.set_theme()"
   ]
  },
  {
   "cell_type": "code",
   "execution_count": 2,
   "id": "289f491d",
   "metadata": {},
   "outputs": [],
   "source": [
    "base_dir = '/Users/das/work/svn/Gits/a_Projects/101_clembench/clembench-runs'"
   ]
  },
  {
   "cell_type": "markdown",
   "id": "caf55fda",
   "metadata": {},
   "source": [
    "## Load\n",
    "\n",
    "Load and massage into the right form the model characteristics file:"
   ]
  },
  {
   "cell_type": "code",
   "execution_count": 3,
   "id": "ecb5ef9c",
   "metadata": {},
   "outputs": [],
   "source": [
    "modprop_df = pd.read_csv(base_dir + '/Addenda/ModelAnalysis2024/Results/model_characteristics.csv')\n",
    "modprop_df['Release Date'] = pd.to_datetime(modprop_df['Release Date'])\n",
    "modprop_df['Cut-off Date'] = pd.to_datetime(modprop_df['Cut-off Date'])\n",
    "\n",
    "## well fuck me. Turns out that the model names can contain trailing whitespaces...\n",
    "modprop_df['Model Name'] = modprop_df['Model Name'].str.strip()"
   ]
  },
  {
   "cell_type": "code",
   "execution_count": 4,
   "id": "a0e590d6",
   "metadata": {},
   "outputs": [
    {
     "data": {
      "text/html": [
       "<div>\n",
       "<style scoped>\n",
       "    .dataframe tbody tr th:only-of-type {\n",
       "        vertical-align: middle;\n",
       "    }\n",
       "\n",
       "    .dataframe tbody tr th {\n",
       "        vertical-align: top;\n",
       "    }\n",
       "\n",
       "    .dataframe thead th {\n",
       "        text-align: right;\n",
       "    }\n",
       "</style>\n",
       "<table border=\"1\" class=\"dataframe\">\n",
       "  <thead>\n",
       "    <tr style=\"text-align: right;\">\n",
       "      <th></th>\n",
       "      <th>Model Provider</th>\n",
       "      <th>Model Name</th>\n",
       "      <th>Training Data Size (in trillions)</th>\n",
       "      <th>Cut-off Date</th>\n",
       "      <th>Parameter Size (in billions)</th>\n",
       "      <th>Release Date</th>\n",
       "      <th>Context Length (in thousands)</th>\n",
       "      <th>Commercial</th>\n",
       "      <th>Multilingual</th>\n",
       "      <th>Multimodal</th>\n",
       "      <th>Base Model</th>\n",
       "      <th>Instruction Tuning Data</th>\n",
       "    </tr>\n",
       "  </thead>\n",
       "  <tbody>\n",
       "    <tr>\n",
       "      <th>0</th>\n",
       "      <td>01-ai</td>\n",
       "      <td>yi-34b-chat</td>\n",
       "      <td>3.0</td>\n",
       "      <td>NaT</td>\n",
       "      <td>34.0</td>\n",
       "      <td>2023-11-01</td>\n",
       "      <td>4</td>\n",
       "      <td>0</td>\n",
       "      <td>1</td>\n",
       "      <td>0</td>\n",
       "      <td>NaN</td>\n",
       "      <td>NaN</td>\n",
       "    </tr>\n",
       "    <tr>\n",
       "      <th>1</th>\n",
       "      <td>01-ai</td>\n",
       "      <td>yi-1.5-6b-chat</td>\n",
       "      <td>3.6</td>\n",
       "      <td>NaT</td>\n",
       "      <td>6.0</td>\n",
       "      <td>2024-05-01</td>\n",
       "      <td>32</td>\n",
       "      <td>0</td>\n",
       "      <td>1</td>\n",
       "      <td>0</td>\n",
       "      <td>NaN</td>\n",
       "      <td>NaN</td>\n",
       "    </tr>\n",
       "    <tr>\n",
       "      <th>2</th>\n",
       "      <td>01-ai</td>\n",
       "      <td>yi-1.5-9b-chat</td>\n",
       "      <td>3.6</td>\n",
       "      <td>NaT</td>\n",
       "      <td>9.0</td>\n",
       "      <td>2024-05-01</td>\n",
       "      <td>4</td>\n",
       "      <td>0</td>\n",
       "      <td>1</td>\n",
       "      <td>0</td>\n",
       "      <td>NaN</td>\n",
       "      <td>NaN</td>\n",
       "    </tr>\n",
       "    <tr>\n",
       "      <th>3</th>\n",
       "      <td>01-ai</td>\n",
       "      <td>yi-1.5-34b-chat</td>\n",
       "      <td>3.6</td>\n",
       "      <td>NaT</td>\n",
       "      <td>34.0</td>\n",
       "      <td>2024-05-01</td>\n",
       "      <td>32</td>\n",
       "      <td>0</td>\n",
       "      <td>1</td>\n",
       "      <td>0</td>\n",
       "      <td>NaN</td>\n",
       "      <td>NaN</td>\n",
       "    </tr>\n",
       "    <tr>\n",
       "      <th>4</th>\n",
       "      <td>Allenai</td>\n",
       "      <td>tulu-2-dpo-70b</td>\n",
       "      <td>NaN</td>\n",
       "      <td>NaT</td>\n",
       "      <td>70.0</td>\n",
       "      <td>2024-11-01</td>\n",
       "      <td>2</td>\n",
       "      <td>0</td>\n",
       "      <td>0</td>\n",
       "      <td>0</td>\n",
       "      <td>llama-2-70b-hf</td>\n",
       "      <td>Ultrafeedback-binarized, tulu-v2-sft-mixture</td>\n",
       "    </tr>\n",
       "  </tbody>\n",
       "</table>\n",
       "</div>"
      ],
      "text/plain": [
       "  Model Provider       Model Name  Training Data Size (in trillions)  \\\n",
       "0          01-ai      yi-34b-chat                                3.0   \n",
       "1          01-ai   yi-1.5-6b-chat                                3.6   \n",
       "2          01-ai   yi-1.5-9b-chat                                3.6   \n",
       "3          01-ai  yi-1.5-34b-chat                                3.6   \n",
       "4        Allenai   tulu-2-dpo-70b                                NaN   \n",
       "\n",
       "  Cut-off Date  Parameter Size (in billions) Release Date  \\\n",
       "0          NaT                          34.0   2023-11-01   \n",
       "1          NaT                           6.0   2024-05-01   \n",
       "2          NaT                           9.0   2024-05-01   \n",
       "3          NaT                          34.0   2024-05-01   \n",
       "4          NaT                          70.0   2024-11-01   \n",
       "\n",
       "   Context Length (in thousands)  Commercial  Multilingual  Multimodal  \\\n",
       "0                              4           0             1           0   \n",
       "1                             32           0             1           0   \n",
       "2                              4           0             1           0   \n",
       "3                             32           0             1           0   \n",
       "4                              2           0             0           0   \n",
       "\n",
       "      Base Model                        Instruction Tuning Data  \n",
       "0             NaN                                           NaN  \n",
       "1             NaN                                           NaN  \n",
       "2             NaN                                           NaN  \n",
       "3             NaN                                           NaN  \n",
       "4  llama-2-70b-hf  Ultrafeedback-binarized, tulu-v2-sft-mixture  "
      ]
     },
     "execution_count": 4,
     "metadata": {},
     "output_type": "execute_result"
    }
   ],
   "source": [
    "modprop_df.head()"
   ]
  },
  {
   "cell_type": "markdown",
   "id": "f0e0c7fb",
   "metadata": {},
   "source": [
    "Load results file, bring the model names into the standard format, and merge the two files"
   ]
  },
  {
   "cell_type": "code",
   "execution_count": 5,
   "id": "418a53d8",
   "metadata": {},
   "outputs": [
    {
     "name": "stderr",
     "output_type": "stream",
     "text": [
      "/var/folders/v4/sxby0fb08xjbdx001s6j3wrh0000gq/T/ipykernel_62242/3022694443.py:3: FutureWarning: The default value of regex will change from True to False in a future version.\n",
      "  v16.loc[:,'model'] = v16.iloc[:,0].str.replace(r'(\\w*)-t0.0.*', r'\\1').str.lower()\n"
     ]
    }
   ],
   "source": [
    "v16 = pd.read_csv(base_dir + '/v1.6/results.csv')\n",
    "#v16.loc[:,'model'] = v16.iloc[:,0].str.replace(r'(\\w*)-(?:hf-)?t0.0.*', r'\\1').str.lower()\n",
    "v16.loc[:,'model'] = v16.iloc[:,0].str.replace(r'(\\w*)-t0.0.*', r'\\1').str.lower()\n",
    "\n",
    "\n",
    "## f me part II: turns out that the results.csv has openchat_3.5, and modprop has openchat-3.5\n",
    "##  normalise to the latter\n",
    "v16.loc[v16.model == 'openchat_3.5', 'model'] = 'openchat-3.5'"
   ]
  },
  {
   "cell_type": "code",
   "execution_count": 6,
   "id": "dd34f629",
   "metadata": {},
   "outputs": [],
   "source": [
    "merged = pd.merge(left=modprop_df, right=v16, left_on='Model Name', right_on='model')"
   ]
  },
  {
   "cell_type": "code",
   "execution_count": 7,
   "id": "2fa3dbab",
   "metadata": {},
   "outputs": [
    {
     "data": {
      "text/plain": [
       "{'sheep-duck-llama-2-13b',\n",
       " 'sus-chat-34b',\n",
       " 'vicuna-13b-v1.5',\n",
       " 'vicuna-33b-v1.3',\n",
       " 'wizardlm-13b-v1.2'}"
      ]
     },
     "execution_count": 7,
     "metadata": {},
     "output_type": "execute_result"
    }
   ],
   "source": [
    "set(v16.model) - set(merged.model)"
   ]
  },
  {
   "cell_type": "markdown",
   "id": "43bcd0ac",
   "metadata": {},
   "source": [
    "## Analyse\n",
    "\n",
    "Investigate: Is there a predictable relationship between # parameters and clemscore?"
   ]
  },
  {
   "cell_type": "code",
   "execution_count": 8,
   "id": "1306a033",
   "metadata": {},
   "outputs": [
    {
     "data": {
      "text/plain": [
       "Index(['Model Provider', 'Model Name', 'Training Data Size (in trillions)',\n",
       "       'Cut-off Date', 'Parameter Size (in billions)', 'Release Date',\n",
       "       'Context Length (in thousands)', 'Commercial', 'Multilingual',\n",
       "       'Multimodal', 'Base Model ', 'Instruction Tuning Data', 'Unnamed: 0',\n",
       "       '-, clemscore', 'all, Average % Played', 'all, Average Quality Score',\n",
       "       'imagegame, % Played', 'imagegame, Quality Score',\n",
       "       'imagegame, Quality Score (std)', 'privateshared, % Played',\n",
       "       'privateshared, Quality Score', 'privateshared, Quality Score (std)',\n",
       "       'referencegame, % Played', 'referencegame, Quality Score',\n",
       "       'referencegame, Quality Score (std)', 'taboo, % Played',\n",
       "       'taboo, Quality Score', 'taboo, Quality Score (std)',\n",
       "       'wordle, % Played', 'wordle, Quality Score',\n",
       "       'wordle, Quality Score (std)', 'wordle_withclue, % Played',\n",
       "       'wordle_withclue, Quality Score',\n",
       "       'wordle_withclue, Quality Score (std)', 'wordle_withcritic, % Played',\n",
       "       'wordle_withcritic, Quality Score',\n",
       "       'wordle_withcritic, Quality Score (std)', 'model'],\n",
       "      dtype='object')"
      ]
     },
     "execution_count": 8,
     "metadata": {},
     "output_type": "execute_result"
    }
   ],
   "source": [
    "merged.columns"
   ]
  },
  {
   "cell_type": "code",
   "execution_count": 9,
   "id": "5637eade",
   "metadata": {},
   "outputs": [],
   "source": [
    "psize = 'Parameter Size (in billions)'\n",
    "cscor = '-, clemscore'\n",
    "tsize = 'Training Data Size (in trillions)'\n",
    "\n",
    "pslog = 'log10(Parameter Size (in billions)'\n",
    "\n",
    "# actually add a column, so that the plots automatically get the right label\n",
    "merged.loc[:, pslog] = np.log10(merged[psize])"
   ]
  },
  {
   "cell_type": "code",
   "execution_count": 10,
   "id": "7d5be97a",
   "metadata": {},
   "outputs": [
    {
     "name": "stderr",
     "output_type": "stream",
     "text": [
      "*c* argument looks like a single numeric RGB or RGBA sequence, which should be avoided as value-mapping will have precedence in case its length matches with *x* & *y*.  Please use the *color* keyword-argument or provide a 2D array with a single row if you intend to specify the same RGB or RGBA value for all points.\n"
     ]
    },
    {
     "data": {
      "image/png": "[encoded data removed]",
      "text/plain": [
       "<Figure size 432x288 with 1 Axes>"
      ]
     },
     "metadata": {},
     "output_type": "display_data"
    }
   ],
   "source": [
    "merged.dropna(subset=[psize]).plot(kind='scatter',\n",
    "                                   x=pslog,\n",
    "                                   y=cscor) #, logx=True)\n",
    "plt.savefig('Out/size-vs-score.png', bbox_inches='tight')"
   ]
  },
  {
   "cell_type": "code",
   "execution_count": 11,
   "id": "06088fa0",
   "metadata": {},
   "outputs": [
    {
     "name": "stderr",
     "output_type": "stream",
     "text": [
      "*c* argument looks like a single numeric RGB or RGBA sequence, which should be avoided as value-mapping will have precedence in case its length matches with *x* & *y*.  Please use the *color* keyword-argument or provide a 2D array with a single row if you intend to specify the same RGB or RGBA value for all points.\n"
     ]
    },
    {
     "data": {
      "text/plain": [
       "<AxesSubplot:xlabel='Parameter Size (in billions)', ylabel='-, clemscore'>"
      ]
     },
     "execution_count": 11,
     "metadata": {},
     "output_type": "execute_result"
    },
    {
     "data": {
      "image/png": "[encoded data removed]",
      "text/plain": [
       "<Figure size 432x288 with 1 Axes>"
      ]
     },
     "metadata": {},
     "output_type": "display_data"
    }
   ],
   "source": [
    "merged.dropna(subset=[psize]).plot(kind='scatter',\n",
    "                                   x=psize,\n",
    "                                   y=cscor, logx=True)"
   ]
  },
  {
   "cell_type": "code",
   "execution_count": 12,
   "id": "27567424",
   "metadata": {},
   "outputs": [],
   "source": [
    "xs = merged.dropna(subset=[psize])[psize]\n",
    "xl = merged.dropna(subset=[psize])[pslog]\n",
    "ys = merged.dropna(subset=[psize])[cscor]"
   ]
  },
  {
   "cell_type": "code",
   "execution_count": 13,
   "id": "bc39f99c",
   "metadata": {},
   "outputs": [
    {
     "data": {
      "text/plain": [
       "(42, 42)"
      ]
     },
     "execution_count": 13,
     "metadata": {},
     "output_type": "execute_result"
    }
   ],
   "source": [
    "len(xs), len(ys)"
   ]
  },
  {
   "cell_type": "code",
   "execution_count": 14,
   "id": "0d4c4c17",
   "metadata": {},
   "outputs": [
    {
     "data": {
      "text/plain": [
       "<AxesSubplot:xlabel='Parameter Size (in billions)', ylabel='-, clemscore'>"
      ]
     },
     "execution_count": 14,
     "metadata": {},
     "output_type": "execute_result"
    },
    {
     "data": {
      "image/png": "[encoded data removed]",
      "text/plain": [
       "<Figure size 432x288 with 1 Axes>"
      ]
     },
     "metadata": {},
     "output_type": "display_data"
    }
   ],
   "source": [
    "sns.regplot(x=np.log(xs), y=ys)"
   ]
  },
  {
   "cell_type": "code",
   "execution_count": 15,
   "id": "6dae383d",
   "metadata": {},
   "outputs": [
    {
     "data": {
      "text/plain": [
       "<AxesSubplot:xlabel='log10(Parameter Size (in billions)', ylabel='-, clemscore'>"
      ]
     },
     "execution_count": 15,
     "metadata": {},
     "output_type": "execute_result"
    },
    {
     "data": {
      "image/png": "[encoded data removed]",
      "text/plain": [
       "<Figure size 432x288 with 1 Axes>"
      ]
     },
     "metadata": {},
     "output_type": "display_data"
    }
   ],
   "source": [
    "sns.regplot(x=xl, y=ys)"
   ]
  },
  {
   "cell_type": "code",
   "execution_count": 16,
   "id": "6c9bd953",
   "metadata": {},
   "outputs": [
    {
     "data": {
      "text/plain": [
       "<AxesSubplot:xlabel='Parameter Size (in billions)', ylabel='-, clemscore'>"
      ]
     },
     "execution_count": 16,
     "metadata": {},
     "output_type": "execute_result"
    },
    {
     "data": {
      "image/png": "[encoded data removed]",
      "text/plain": [
       "<Figure size 432x288 with 1 Axes>"
      ]
     },
     "metadata": {},
     "output_type": "display_data"
    }
   ],
   "source": [
    "sns.regplot(x=xs, y=ys, logx=True)"
   ]
  },
  {
   "cell_type": "markdown",
   "id": "24b94d11",
   "metadata": {},
   "source": [
    "Fit a linear-log model: Score ~ log(Parameters)\n",
    "( https://kenbenoit.net/assets/courses/ME104/logmodels2.pdf )"
   ]
  },
  {
   "cell_type": "code",
   "execution_count": 17,
   "id": "650b0400",
   "metadata": {},
   "outputs": [],
   "source": [
    "data = merged.dropna(subset=[psize, tsize])[[psize, pslog, tsize, cscor]].copy(deep=True)\n",
    "data.columns = ['Parameters', 'log10(Parameters)', 'Data', 'Score']"
   ]
  },
  {
   "cell_type": "code",
   "execution_count": 18,
   "id": "70b505a8",
   "metadata": {},
   "outputs": [],
   "source": [
    "results = smf.ols('Score ~ np.log(Parameters)', data=data).fit()"
   ]
  },
  {
   "cell_type": "code",
   "execution_count": 19,
   "id": "3c4fec9c",
   "metadata": {},
   "outputs": [
    {
     "name": "stdout",
     "output_type": "stream",
     "text": [
      "                            OLS Regression Results                            \n",
      "==============================================================================\n",
      "Dep. Variable:                  Score   R-squared:                       0.567\n",
      "Model:                            OLS   Adj. R-squared:                  0.543\n",
      "Method:                 Least Squares   F-statistic:                     23.56\n",
      "Date:                Mon, 10 Jun 2024   Prob (F-statistic):           0.000127\n",
      "Time:                        23:43:18   Log-Likelihood:                -69.529\n",
      "No. Observations:                  20   AIC:                             143.1\n",
      "Df Residuals:                      18   BIC:                             145.0\n",
      "Df Model:                           1                                         \n",
      "Covariance Type:            nonrobust                                         \n",
      "======================================================================================\n",
      "                         coef    std err          t      P>|t|      [0.025      0.975]\n",
      "--------------------------------------------------------------------------------------\n",
      "Intercept             -1.8909      3.611     -0.524      0.607      -9.478       5.697\n",
      "np.log(Parameters)     5.2453      1.081      4.854      0.000       2.975       7.516\n",
      "==============================================================================\n",
      "Omnibus:                        1.179   Durbin-Watson:                   1.952\n",
      "Prob(Omnibus):                  0.555   Jarque-Bera (JB):                0.389\n",
      "Skew:                          -0.331   Prob(JB):                        0.823\n",
      "Kurtosis:                       3.166   Cond. No.                         6.99\n",
      "==============================================================================\n",
      "\n",
      "Notes:\n",
      "[1] Standard Errors assume that the covariance matrix of the errors is correctly specified.\n"
     ]
    }
   ],
   "source": [
    "print(results.summary())"
   ]
  },
  {
   "cell_type": "markdown",
   "id": "e39409ff",
   "metadata": {},
   "source": [
    "A significant regression equation was found (F(1, 18) = 23.56, p < 0.000), with an R^2 of .567)."
   ]
  },
  {
   "cell_type": "markdown",
   "id": "9a620d27",
   "metadata": {},
   "source": [
    ".... and adding in the size of training data.. explains a bit more:"
   ]
  },
  {
   "cell_type": "code",
   "execution_count": 20,
   "id": "8c0893d3",
   "metadata": {},
   "outputs": [
    {
     "name": "stdout",
     "output_type": "stream",
     "text": [
      "                            OLS Regression Results                            \n",
      "==============================================================================\n",
      "Dep. Variable:                  Score   R-squared:                       0.671\n",
      "Model:                            OLS   Adj. R-squared:                  0.632\n",
      "Method:                 Least Squares   F-statistic:                     17.31\n",
      "Date:                Mon, 10 Jun 2024   Prob (F-statistic):           7.95e-05\n",
      "Time:                        23:43:18   Log-Likelihood:                -66.792\n",
      "No. Observations:                  20   AIC:                             139.6\n",
      "Df Residuals:                      17   BIC:                             142.6\n",
      "Df Model:                           2                                         \n",
      "Covariance Type:            nonrobust                                         \n",
      "======================================================================================\n",
      "                         coef    std err          t      P>|t|      [0.025      0.975]\n",
      "--------------------------------------------------------------------------------------\n",
      "Intercept             -5.8290      3.661     -1.592      0.130     -13.552       1.894\n",
      "np.log(Parameters)     4.5982      1.009      4.556      0.000       2.469       6.727\n",
      "np.log(Data)           4.5764      1.978      2.314      0.033       0.403       8.750\n",
      "==============================================================================\n",
      "Omnibus:                        1.051   Durbin-Watson:                   2.208\n",
      "Prob(Omnibus):                  0.591   Jarque-Bera (JB):                0.801\n",
      "Skew:                          -0.460   Prob(JB):                        0.670\n",
      "Kurtosis:                       2.661   Cond. No.                         8.54\n",
      "==============================================================================\n",
      "\n",
      "Notes:\n",
      "[1] Standard Errors assume that the covariance matrix of the errors is correctly specified.\n"
     ]
    }
   ],
   "source": [
    "results = smf.ols('Score ~ np.log(Parameters) + np.log(Data)', data=data).fit()\n",
    "print(results.summary())"
   ]
  },
  {
   "cell_type": "markdown",
   "id": "c1ddb4e3",
   "metadata": {},
   "source": [
    "f(2,17) = 17.31, p < 0.000, R^2 = .67"
   ]
  },
  {
   "cell_type": "code",
   "execution_count": null,
   "id": "3cb93546",
   "metadata": {},
   "outputs": [],
   "source": []
  }
 ],
 "metadata": {
  "kernelspec": {
   "display_name": "Python 3 (ipykernel)",
   "language": "python",
   "name": "python3"
  },
  "language_info": {
   "codemirror_mode": {
    "name": "ipython",
    "version": 3
   },
   "file_extension": ".py",
   "mimetype": "text/x-python",
   "name": "python",
   "nbconvert_exporter": "python",
   "pygments_lexer": "ipython3",
   "version": "3.9.12"
  }
 },
 "nbformat": 4,
 "nbformat_minor": 5
}
